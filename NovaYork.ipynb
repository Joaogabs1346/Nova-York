{
 "cells": [
  {
   "cell_type": "code",
   "execution_count": 1,
   "id": "6642541a",
   "metadata": {},
   "outputs": [],
   "source": [
    "import pandas as pd\n",
    "import numpy as np\n",
    "import matplotlib.pyplot as plt\n",
    "import seaborn as sns\n",
    "from sklearn.metrics import r2_score,mean_squared_error\n",
    "from sklearn.preprocessing import StandardScaler\n",
    "from sklearn.model_selection import cross_val_score\n",
    "from sklearn.tree import DecisionTreeClassifier\n",
    "from sklearn.ensemble import RandomForestRegressor\n",
    "from sklearn.ensemble import ExtraTreesRegressor\n",
    "from sklearn import model_selection\n",
    "from sklearn.metrics import confusion_matrix\n",
    "from sklearn import linear_model"
   ]
  },
  {
   "cell_type": "code",
   "execution_count": 2,
   "id": "192034d5",
   "metadata": {},
   "outputs": [
    {
     "data": {
      "text/html": [
       "<div>\n",
       "<style scoped>\n",
       "    .dataframe tbody tr th:only-of-type {\n",
       "        vertical-align: middle;\n",
       "    }\n",
       "\n",
       "    .dataframe tbody tr th {\n",
       "        vertical-align: top;\n",
       "    }\n",
       "\n",
       "    .dataframe thead th {\n",
       "        text-align: right;\n",
       "    }\n",
       "</style>\n",
       "<table border=\"1\" class=\"dataframe\">\n",
       "  <thead>\n",
       "    <tr style=\"text-align: right;\">\n",
       "      <th></th>\n",
       "      <th>id</th>\n",
       "      <th>name</th>\n",
       "      <th>host_id</th>\n",
       "      <th>host_name</th>\n",
       "      <th>neighbourhood_group</th>\n",
       "      <th>neighbourhood</th>\n",
       "      <th>latitude</th>\n",
       "      <th>longitude</th>\n",
       "      <th>room_type</th>\n",
       "      <th>price</th>\n",
       "      <th>minimum_nights</th>\n",
       "      <th>number_of_reviews</th>\n",
       "      <th>last_review</th>\n",
       "      <th>reviews_per_month</th>\n",
       "      <th>calculated_host_listings_count</th>\n",
       "      <th>availability_365</th>\n",
       "    </tr>\n",
       "  </thead>\n",
       "  <tbody>\n",
       "    <tr>\n",
       "      <th>0</th>\n",
       "      <td>2539</td>\n",
       "      <td>Clean &amp; quiet apt home by the park</td>\n",
       "      <td>2787</td>\n",
       "      <td>John</td>\n",
       "      <td>Brooklyn</td>\n",
       "      <td>Kensington</td>\n",
       "      <td>40.64749</td>\n",
       "      <td>-73.97237</td>\n",
       "      <td>Private room</td>\n",
       "      <td>149</td>\n",
       "      <td>1</td>\n",
       "      <td>9</td>\n",
       "      <td>2018-10-19</td>\n",
       "      <td>0.21</td>\n",
       "      <td>6</td>\n",
       "      <td>365</td>\n",
       "    </tr>\n",
       "    <tr>\n",
       "      <th>1</th>\n",
       "      <td>2595</td>\n",
       "      <td>Skylit Midtown Castle</td>\n",
       "      <td>2845</td>\n",
       "      <td>Jennifer</td>\n",
       "      <td>Manhattan</td>\n",
       "      <td>Midtown</td>\n",
       "      <td>40.75362</td>\n",
       "      <td>-73.98377</td>\n",
       "      <td>Entire home/apt</td>\n",
       "      <td>225</td>\n",
       "      <td>1</td>\n",
       "      <td>45</td>\n",
       "      <td>2019-05-21</td>\n",
       "      <td>0.38</td>\n",
       "      <td>2</td>\n",
       "      <td>355</td>\n",
       "    </tr>\n",
       "    <tr>\n",
       "      <th>2</th>\n",
       "      <td>3647</td>\n",
       "      <td>THE VILLAGE OF HARLEM....NEW YORK !</td>\n",
       "      <td>4632</td>\n",
       "      <td>Elisabeth</td>\n",
       "      <td>Manhattan</td>\n",
       "      <td>Harlem</td>\n",
       "      <td>40.80902</td>\n",
       "      <td>-73.94190</td>\n",
       "      <td>Private room</td>\n",
       "      <td>150</td>\n",
       "      <td>3</td>\n",
       "      <td>0</td>\n",
       "      <td>NaN</td>\n",
       "      <td>NaN</td>\n",
       "      <td>1</td>\n",
       "      <td>365</td>\n",
       "    </tr>\n",
       "    <tr>\n",
       "      <th>3</th>\n",
       "      <td>3831</td>\n",
       "      <td>Cozy Entire Floor of Brownstone</td>\n",
       "      <td>4869</td>\n",
       "      <td>LisaRoxanne</td>\n",
       "      <td>Brooklyn</td>\n",
       "      <td>Clinton Hill</td>\n",
       "      <td>40.68514</td>\n",
       "      <td>-73.95976</td>\n",
       "      <td>Entire home/apt</td>\n",
       "      <td>89</td>\n",
       "      <td>1</td>\n",
       "      <td>270</td>\n",
       "      <td>2019-07-05</td>\n",
       "      <td>4.64</td>\n",
       "      <td>1</td>\n",
       "      <td>194</td>\n",
       "    </tr>\n",
       "    <tr>\n",
       "      <th>4</th>\n",
       "      <td>5022</td>\n",
       "      <td>Entire Apt: Spacious Studio/Loft by central park</td>\n",
       "      <td>7192</td>\n",
       "      <td>Laura</td>\n",
       "      <td>Manhattan</td>\n",
       "      <td>East Harlem</td>\n",
       "      <td>40.79851</td>\n",
       "      <td>-73.94399</td>\n",
       "      <td>Entire home/apt</td>\n",
       "      <td>80</td>\n",
       "      <td>10</td>\n",
       "      <td>9</td>\n",
       "      <td>2018-11-19</td>\n",
       "      <td>0.10</td>\n",
       "      <td>1</td>\n",
       "      <td>0</td>\n",
       "    </tr>\n",
       "    <tr>\n",
       "      <th>...</th>\n",
       "      <td>...</td>\n",
       "      <td>...</td>\n",
       "      <td>...</td>\n",
       "      <td>...</td>\n",
       "      <td>...</td>\n",
       "      <td>...</td>\n",
       "      <td>...</td>\n",
       "      <td>...</td>\n",
       "      <td>...</td>\n",
       "      <td>...</td>\n",
       "      <td>...</td>\n",
       "      <td>...</td>\n",
       "      <td>...</td>\n",
       "      <td>...</td>\n",
       "      <td>...</td>\n",
       "      <td>...</td>\n",
       "    </tr>\n",
       "    <tr>\n",
       "      <th>48890</th>\n",
       "      <td>36484665</td>\n",
       "      <td>Charming one bedroom - newly renovated rowhouse</td>\n",
       "      <td>8232441</td>\n",
       "      <td>Sabrina</td>\n",
       "      <td>Brooklyn</td>\n",
       "      <td>Bedford-Stuyvesant</td>\n",
       "      <td>40.67853</td>\n",
       "      <td>-73.94995</td>\n",
       "      <td>Private room</td>\n",
       "      <td>70</td>\n",
       "      <td>2</td>\n",
       "      <td>0</td>\n",
       "      <td>NaN</td>\n",
       "      <td>NaN</td>\n",
       "      <td>2</td>\n",
       "      <td>9</td>\n",
       "    </tr>\n",
       "    <tr>\n",
       "      <th>48891</th>\n",
       "      <td>36485057</td>\n",
       "      <td>Affordable room in Bushwick/East Williamsburg</td>\n",
       "      <td>6570630</td>\n",
       "      <td>Marisol</td>\n",
       "      <td>Brooklyn</td>\n",
       "      <td>Bushwick</td>\n",
       "      <td>40.70184</td>\n",
       "      <td>-73.93317</td>\n",
       "      <td>Private room</td>\n",
       "      <td>40</td>\n",
       "      <td>4</td>\n",
       "      <td>0</td>\n",
       "      <td>NaN</td>\n",
       "      <td>NaN</td>\n",
       "      <td>2</td>\n",
       "      <td>36</td>\n",
       "    </tr>\n",
       "    <tr>\n",
       "      <th>48892</th>\n",
       "      <td>36485431</td>\n",
       "      <td>Sunny Studio at Historical Neighborhood</td>\n",
       "      <td>23492952</td>\n",
       "      <td>Ilgar &amp; Aysel</td>\n",
       "      <td>Manhattan</td>\n",
       "      <td>Harlem</td>\n",
       "      <td>40.81475</td>\n",
       "      <td>-73.94867</td>\n",
       "      <td>Entire home/apt</td>\n",
       "      <td>115</td>\n",
       "      <td>10</td>\n",
       "      <td>0</td>\n",
       "      <td>NaN</td>\n",
       "      <td>NaN</td>\n",
       "      <td>1</td>\n",
       "      <td>27</td>\n",
       "    </tr>\n",
       "    <tr>\n",
       "      <th>48893</th>\n",
       "      <td>36485609</td>\n",
       "      <td>43rd St. Time Square-cozy single bed</td>\n",
       "      <td>30985759</td>\n",
       "      <td>Taz</td>\n",
       "      <td>Manhattan</td>\n",
       "      <td>Hell's Kitchen</td>\n",
       "      <td>40.75751</td>\n",
       "      <td>-73.99112</td>\n",
       "      <td>Shared room</td>\n",
       "      <td>55</td>\n",
       "      <td>1</td>\n",
       "      <td>0</td>\n",
       "      <td>NaN</td>\n",
       "      <td>NaN</td>\n",
       "      <td>6</td>\n",
       "      <td>2</td>\n",
       "    </tr>\n",
       "    <tr>\n",
       "      <th>48894</th>\n",
       "      <td>36487245</td>\n",
       "      <td>Trendy duplex in the very heart of Hell's Kitchen</td>\n",
       "      <td>68119814</td>\n",
       "      <td>Christophe</td>\n",
       "      <td>Manhattan</td>\n",
       "      <td>Hell's Kitchen</td>\n",
       "      <td>40.76404</td>\n",
       "      <td>-73.98933</td>\n",
       "      <td>Private room</td>\n",
       "      <td>90</td>\n",
       "      <td>7</td>\n",
       "      <td>0</td>\n",
       "      <td>NaN</td>\n",
       "      <td>NaN</td>\n",
       "      <td>1</td>\n",
       "      <td>23</td>\n",
       "    </tr>\n",
       "  </tbody>\n",
       "</table>\n",
       "<p>48895 rows × 16 columns</p>\n",
       "</div>"
      ],
      "text/plain": [
       "             id                                               name   host_id  \\\n",
       "0          2539                 Clean & quiet apt home by the park      2787   \n",
       "1          2595                              Skylit Midtown Castle      2845   \n",
       "2          3647                THE VILLAGE OF HARLEM....NEW YORK !      4632   \n",
       "3          3831                    Cozy Entire Floor of Brownstone      4869   \n",
       "4          5022   Entire Apt: Spacious Studio/Loft by central park      7192   \n",
       "...         ...                                                ...       ...   \n",
       "48890  36484665    Charming one bedroom - newly renovated rowhouse   8232441   \n",
       "48891  36485057      Affordable room in Bushwick/East Williamsburg   6570630   \n",
       "48892  36485431            Sunny Studio at Historical Neighborhood  23492952   \n",
       "48893  36485609               43rd St. Time Square-cozy single bed  30985759   \n",
       "48894  36487245  Trendy duplex in the very heart of Hell's Kitchen  68119814   \n",
       "\n",
       "           host_name neighbourhood_group       neighbourhood  latitude  \\\n",
       "0               John            Brooklyn          Kensington  40.64749   \n",
       "1           Jennifer           Manhattan             Midtown  40.75362   \n",
       "2          Elisabeth           Manhattan              Harlem  40.80902   \n",
       "3        LisaRoxanne            Brooklyn        Clinton Hill  40.68514   \n",
       "4              Laura           Manhattan         East Harlem  40.79851   \n",
       "...              ...                 ...                 ...       ...   \n",
       "48890        Sabrina            Brooklyn  Bedford-Stuyvesant  40.67853   \n",
       "48891        Marisol            Brooklyn            Bushwick  40.70184   \n",
       "48892  Ilgar & Aysel           Manhattan              Harlem  40.81475   \n",
       "48893            Taz           Manhattan      Hell's Kitchen  40.75751   \n",
       "48894     Christophe           Manhattan      Hell's Kitchen  40.76404   \n",
       "\n",
       "       longitude        room_type  price  minimum_nights  number_of_reviews  \\\n",
       "0      -73.97237     Private room    149               1                  9   \n",
       "1      -73.98377  Entire home/apt    225               1                 45   \n",
       "2      -73.94190     Private room    150               3                  0   \n",
       "3      -73.95976  Entire home/apt     89               1                270   \n",
       "4      -73.94399  Entire home/apt     80              10                  9   \n",
       "...          ...              ...    ...             ...                ...   \n",
       "48890  -73.94995     Private room     70               2                  0   \n",
       "48891  -73.93317     Private room     40               4                  0   \n",
       "48892  -73.94867  Entire home/apt    115              10                  0   \n",
       "48893  -73.99112      Shared room     55               1                  0   \n",
       "48894  -73.98933     Private room     90               7                  0   \n",
       "\n",
       "      last_review  reviews_per_month  calculated_host_listings_count  \\\n",
       "0      2018-10-19               0.21                               6   \n",
       "1      2019-05-21               0.38                               2   \n",
       "2             NaN                NaN                               1   \n",
       "3      2019-07-05               4.64                               1   \n",
       "4      2018-11-19               0.10                               1   \n",
       "...           ...                ...                             ...   \n",
       "48890         NaN                NaN                               2   \n",
       "48891         NaN                NaN                               2   \n",
       "48892         NaN                NaN                               1   \n",
       "48893         NaN                NaN                               6   \n",
       "48894         NaN                NaN                               1   \n",
       "\n",
       "       availability_365  \n",
       "0                   365  \n",
       "1                   355  \n",
       "2                   365  \n",
       "3                   194  \n",
       "4                     0  \n",
       "...                 ...  \n",
       "48890                 9  \n",
       "48891                36  \n",
       "48892                27  \n",
       "48893                 2  \n",
       "48894                23  \n",
       "\n",
       "[48895 rows x 16 columns]"
      ]
     },
     "execution_count": 2,
     "metadata": {},
     "output_type": "execute_result"
    }
   ],
   "source": [
    "Nova_York_DF = pd.read_csv('AB_NYC_2019.csv') ; Nova_York_DF"
   ]
  },
  {
   "cell_type": "markdown",
   "id": "cc198f49",
   "metadata": {},
   "source": [
    "# Descriptive statistics\n"
   ]
  },
  {
   "cell_type": "markdown",
   "id": "40fbeb86",
   "metadata": {},
   "source": [
    "#### In this step, I will build a descriptive analysis on the data, before performing the pre-processing\n",
    "\n",
    "##### Numeric variables\n",
    "- Average\n",
    "- median\n",
    "- variance\n",
    "- Standard deviation\n",
    "- Quartiles\n",
    "\n",
    "##### Categorical variables:\n",
    "- Mode\n",
    "- The unique values of each variable\n"
   ]
  },
  {
   "cell_type": "markdown",
   "id": "c1efc9ee",
   "metadata": {},
   "source": [
    "#### Data Presentation"
   ]
  },
  {
   "cell_type": "code",
   "execution_count": 3,
   "id": "267486b5",
   "metadata": {},
   "outputs": [
    {
     "name": "stdout",
     "output_type": "stream",
     "text": [
      " Values Count Table of all DF columns:\n",
      "id                                48895\n",
      "name                              48879\n",
      "host_id                           48895\n",
      "host_name                         48874\n",
      "neighbourhood_group               48895\n",
      "neighbourhood                     48895\n",
      "latitude                          48895\n",
      "longitude                         48895\n",
      "room_type                         48895\n",
      "price                             48895\n",
      "minimum_nights                    48895\n",
      "number_of_reviews                 48895\n",
      "last_review                       38843\n",
      "reviews_per_month                 38843\n",
      "calculated_host_listings_count    48895\n",
      "availability_365                  48895\n",
      "dtype: int64\n",
      "--------------------------------------------------------------------------------\n",
      "Number of DF Row/columns\n",
      "(48895, 16)\n"
     ]
    }
   ],
   "source": [
    "print(f' Values Count Table of all DF columns:\\n{Nova_York_DF.notnull().sum()}')\n",
    "print('--'*40)\n",
    "print(f'Number of DF Row/columns\\n{Nova_York_DF.shape}')"
   ]
  },
  {
   "cell_type": "markdown",
   "id": "2d86154b",
   "metadata": {},
   "source": [
    "The last_review and reviews_per_month have different values"
   ]
  },
  {
   "cell_type": "code",
   "execution_count": 4,
   "id": "0f6ceb70",
   "metadata": {},
   "outputs": [
    {
     "name": "stdout",
     "output_type": "stream",
     "text": [
      "Specifying the data type of each DataFrame column\n",
      "id                                  int64\n",
      "name                               object\n",
      "host_id                             int64\n",
      "host_name                          object\n",
      "neighbourhood_group                object\n",
      "neighbourhood                      object\n",
      "latitude                          float64\n",
      "longitude                         float64\n",
      "room_type                          object\n",
      "price                               int64\n",
      "minimum_nights                      int64\n",
      "number_of_reviews                   int64\n",
      "last_review                        object\n",
      "reviews_per_month                 float64\n",
      "calculated_host_listings_count      int64\n",
      "availability_365                    int64\n",
      "dtype: object\n"
     ]
    }
   ],
   "source": [
    "print(f'Specifying the data type of each DataFrame column\\n{Nova_York_DF.dtypes}')"
   ]
  },
  {
   "cell_type": "markdown",
   "id": "def48bfb",
   "metadata": {},
   "source": [
    "#### Removing null values"
   ]
  },
  {
   "cell_type": "code",
   "execution_count": 5,
   "id": "27d76851",
   "metadata": {},
   "outputs": [
    {
     "name": "stdout",
     "output_type": "stream",
     "text": [
      "id                                    0\n",
      "name                                 16\n",
      "host_id                               0\n",
      "host_name                            21\n",
      "neighbourhood_group                   0\n",
      "neighbourhood                         0\n",
      "latitude                              0\n",
      "longitude                             0\n",
      "room_type                             0\n",
      "price                                 0\n",
      "minimum_nights                        0\n",
      "number_of_reviews                     0\n",
      "last_review                       10052\n",
      "reviews_per_month                 10052\n",
      "calculated_host_listings_count        0\n",
      "availability_365                      0\n",
      "dtype: int64\n"
     ]
    }
   ],
   "source": [
    "print(Nova_York_DF.isnull().sum())"
   ]
  },
  {
   "cell_type": "code",
   "execution_count": 6,
   "id": "db20ef4e",
   "metadata": {},
   "outputs": [
    {
     "name": "stdout",
     "output_type": "stream",
     "text": [
      "id                                 0\n",
      "name                              16\n",
      "host_id                            0\n",
      "host_name                         21\n",
      "neighbourhood_group                0\n",
      "neighbourhood                      0\n",
      "latitude                           0\n",
      "longitude                          0\n",
      "room_type                          0\n",
      "price                              0\n",
      "minimum_nights                     0\n",
      "number_of_reviews                  0\n",
      "calculated_host_listings_count     0\n",
      "availability_365                   0\n",
      "dtype: int64\n"
     ]
    }
   ],
   "source": [
    "for excluir in Nova_York_DF:\n",
    "    if Nova_York_DF[excluir].isnull().sum()>10000:\n",
    "        Nova_York_DF= Nova_York_DF.drop(excluir,axis=1)\n",
    "        \n",
    "print(Nova_York_DF.isnull().sum())"
   ]
  },
  {
   "cell_type": "markdown",
   "id": "5a6ae6ef",
   "metadata": {},
   "source": [
    "### Numeric variables"
   ]
  },
  {
   "cell_type": "code",
   "execution_count": 7,
   "id": "b6ba6db7",
   "metadata": {},
   "outputs": [
    {
     "data": {
      "text/html": [
       "<div>\n",
       "<style scoped>\n",
       "    .dataframe tbody tr th:only-of-type {\n",
       "        vertical-align: middle;\n",
       "    }\n",
       "\n",
       "    .dataframe tbody tr th {\n",
       "        vertical-align: top;\n",
       "    }\n",
       "\n",
       "    .dataframe thead th {\n",
       "        text-align: right;\n",
       "    }\n",
       "</style>\n",
       "<table border=\"1\" class=\"dataframe\">\n",
       "  <thead>\n",
       "    <tr style=\"text-align: right;\">\n",
       "      <th></th>\n",
       "      <th>price</th>\n",
       "      <th>minimum_nights</th>\n",
       "      <th>number_of_reviews</th>\n",
       "      <th>calculated_host_listings_count</th>\n",
       "      <th>availability_365</th>\n",
       "    </tr>\n",
       "  </thead>\n",
       "  <tbody>\n",
       "    <tr>\n",
       "      <th>count</th>\n",
       "      <td>48895.000000</td>\n",
       "      <td>48895.000000</td>\n",
       "      <td>48895.000000</td>\n",
       "      <td>48895.000000</td>\n",
       "      <td>48895.000000</td>\n",
       "    </tr>\n",
       "    <tr>\n",
       "      <th>mean</th>\n",
       "      <td>152.720687</td>\n",
       "      <td>7.029962</td>\n",
       "      <td>23.274466</td>\n",
       "      <td>7.143982</td>\n",
       "      <td>112.781327</td>\n",
       "    </tr>\n",
       "    <tr>\n",
       "      <th>std</th>\n",
       "      <td>240.154170</td>\n",
       "      <td>20.510550</td>\n",
       "      <td>44.550582</td>\n",
       "      <td>32.952519</td>\n",
       "      <td>131.622289</td>\n",
       "    </tr>\n",
       "    <tr>\n",
       "      <th>min</th>\n",
       "      <td>0.000000</td>\n",
       "      <td>1.000000</td>\n",
       "      <td>0.000000</td>\n",
       "      <td>1.000000</td>\n",
       "      <td>0.000000</td>\n",
       "    </tr>\n",
       "    <tr>\n",
       "      <th>25%</th>\n",
       "      <td>69.000000</td>\n",
       "      <td>1.000000</td>\n",
       "      <td>1.000000</td>\n",
       "      <td>1.000000</td>\n",
       "      <td>0.000000</td>\n",
       "    </tr>\n",
       "    <tr>\n",
       "      <th>50%</th>\n",
       "      <td>106.000000</td>\n",
       "      <td>3.000000</td>\n",
       "      <td>5.000000</td>\n",
       "      <td>1.000000</td>\n",
       "      <td>45.000000</td>\n",
       "    </tr>\n",
       "    <tr>\n",
       "      <th>75%</th>\n",
       "      <td>175.000000</td>\n",
       "      <td>5.000000</td>\n",
       "      <td>24.000000</td>\n",
       "      <td>2.000000</td>\n",
       "      <td>227.000000</td>\n",
       "    </tr>\n",
       "    <tr>\n",
       "      <th>max</th>\n",
       "      <td>10000.000000</td>\n",
       "      <td>1250.000000</td>\n",
       "      <td>629.000000</td>\n",
       "      <td>327.000000</td>\n",
       "      <td>365.000000</td>\n",
       "    </tr>\n",
       "  </tbody>\n",
       "</table>\n",
       "</div>"
      ],
      "text/plain": [
       "              price  minimum_nights  number_of_reviews  \\\n",
       "count  48895.000000    48895.000000       48895.000000   \n",
       "mean     152.720687        7.029962          23.274466   \n",
       "std      240.154170       20.510550          44.550582   \n",
       "min        0.000000        1.000000           0.000000   \n",
       "25%       69.000000        1.000000           1.000000   \n",
       "50%      106.000000        3.000000           5.000000   \n",
       "75%      175.000000        5.000000          24.000000   \n",
       "max    10000.000000     1250.000000         629.000000   \n",
       "\n",
       "       calculated_host_listings_count  availability_365  \n",
       "count                    48895.000000      48895.000000  \n",
       "mean                         7.143982        112.781327  \n",
       "std                         32.952519        131.622289  \n",
       "min                          1.000000          0.000000  \n",
       "25%                          1.000000          0.000000  \n",
       "50%                          1.000000         45.000000  \n",
       "75%                          2.000000        227.000000  \n",
       "max                        327.000000        365.000000  "
      ]
     },
     "metadata": {},
     "output_type": "display_data"
    }
   ],
   "source": [
    "Numeric_df = Nova_York_DF.copy()\n",
    "Numeric_df = Numeric_df.drop(['id','name','host_id','host_name','neighbourhood_group','neighbourhood','room_type','latitude', 'longitude'],axis=1)\n",
    "display(Numeric_df.describe())"
   ]
  },
  {
   "cell_type": "markdown",
   "id": "ff67d243",
   "metadata": {},
   "source": [
    "i removed all  strings columns \n",
    "\n",
    "'id','host_id','latitude', 'longitude' are unique values and therefore can be removed\n"
   ]
  },
  {
   "cell_type": "markdown",
   "id": "6a1e6a75",
   "metadata": {},
   "source": [
    "###  Categorical variables "
   ]
  },
  {
   "cell_type": "code",
   "execution_count": 8,
   "id": "aa7a5ae1",
   "metadata": {},
   "outputs": [
    {
     "name": "stdout",
     "output_type": "stream",
     "text": [
      "\u001b[1mName of most rented places:\u001b[0m\n",
      "Hillside Hotel                                        18\n",
      "Home away from home                                   17\n",
      "New york Multi-unit building                          16\n",
      "Brooklyn Apartment                                    12\n",
      "Loft Suite @ The Box House Hotel                      11\n",
      "                                                      ..\n",
      "Large 1BR Apt. in Williamsburg                         1\n",
      "Feel at Home                                           1\n",
      "Spacious Modern Alcove Studio in a Luxury Building     1\n",
      "Artist's Room in Large Apartment                       1\n",
      "Trendy duplex in the very heart of Hell's Kitchen      1\n",
      "Name: name, Length: 47905, dtype: int64\n",
      "--------------------------------------------------------------------------------\n",
      "\u001b[1mhouse host name:\u001b[0m\n",
      "Michael              417\n",
      "David                403\n",
      "Sonder (NYC)         327\n",
      "John                 294\n",
      "Alex                 279\n",
      "                    ... \n",
      "Rhonycs                1\n",
      "Brandy-Courtney        1\n",
      "Shanthony              1\n",
      "Aurore And Jamila      1\n",
      "Ilgar & Aysel          1\n",
      "Name: host_name, Length: 11452, dtype: int64\n",
      "--------------------------------------------------------------------------------\n",
      "\u001b[1mMost popular neighborhood groups:\u001b[0m\n",
      "Manhattan        21661\n",
      "Brooklyn         20104\n",
      "Queens            5666\n",
      "Bronx             1091\n",
      "Staten Island      373\n",
      "Name: neighbourhood_group, dtype: int64\n",
      "--------------------------------------------------------------------------------\n",
      "\u001b[1mMost popular neighborhood:\u001b[0m\n",
      "Williamsburg          3920\n",
      "Bedford-Stuyvesant    3714\n",
      "Harlem                2658\n",
      "Bushwick              2465\n",
      "Upper West Side       1971\n",
      "                      ... \n",
      "Fort Wadsworth           1\n",
      "Richmondtown             1\n",
      "New Dorp                 1\n",
      "Rossville                1\n",
      "Willowbrook              1\n",
      "Name: neighbourhood, Length: 221, dtype: int64\n"
     ]
    }
   ],
   "source": [
    "Catego_df = Nova_York_DF.copy()\n",
    "Catego_df = Catego_df.drop(['price', 'minimum_nights','number_of_reviews','calculated_host_listings_count','availability_365'],axis=1)\n",
    "Mode_Name = Catego_df['name'].value_counts() ; print('\\033[1m' + 'Name of most rented places:' + '\\033[0m') ; print(Mode_Name) ; print('----'*20)\n",
    "Mode_host_name = Catego_df['host_name'].value_counts(); print('\\033[1m' + 'house host name:' + '\\033[0m') ; print(Mode_host_name) ; print('----'*20)\n",
    "Mode_neighbourhood_group = Catego_df['neighbourhood_group'].value_counts(); print('\\033[1m' + 'Most popular neighborhood groups:' + '\\033[0m') ; print(Mode_neighbourhood_group) ;  print('----'*20)\n",
    "Mode_neighbourhood = Catego_df['neighbourhood'].value_counts() ; print('\\033[1m' + 'Most popular neighborhood:' + '\\033[0m') ; print(Mode_neighbourhood) \n",
    "\n",
    "\n",
    "\n"
   ]
  },
  {
   "cell_type": "markdown",
   "id": "101d6e6d",
   "metadata": {},
   "source": [
    "i removed all float64 and int64 columns\n",
    "\n",
    "Some neighborhoods are easier to rent out the property due to high demand\n",
    "\n",
    "\n",
    "The area with the highest number of rental properties is in Manhattan. However, the most popular neighborhood is Williamsburg, which is located in Brooklyn.\n",
    "\n",
    "\n",
    "\n"
   ]
  },
  {
   "cell_type": "markdown",
   "id": "e224f8fb",
   "metadata": {},
   "source": [
    "### Univariate data analysis  and Pre-processing\n",
    "\n",
    "The objective of this step is to identify the behavior of the variables, verifying kurtosis and asymmetry, as well as extracting insights about each variable individually.\n",
    "\n",
    "Removal / Changing types of variables"
   ]
  },
  {
   "cell_type": "code",
   "execution_count": 9,
   "id": "8c3d3438",
   "metadata": {},
   "outputs": [],
   "source": [
    "### Funcs\n",
    "def limites(coluna):\n",
    "    q1 = coluna.quantile(0.25)\n",
    "    q3 = coluna.quantile(0.75)\n",
    "    amplitude = q3-q1\n",
    "    return q1-1.5* amplitude, q3 +1.5 * amplitude \n",
    "def remove_outliers(df, nome_coluna):\n",
    "    qtde_linhas = df.shape[0]\n",
    "    lim_inf, lim_sup = limites(df[nome_coluna])\n",
    "    df = df.loc[(df[nome_coluna] >= lim_inf) & (df[nome_coluna] <= lim_sup), :]\n",
    "    linhas_removidas = qtde_linhas - df.shape[0]\n",
    "    return df,  linhas_removidas\n",
    "\n",
    "\n",
    "#Plots\n",
    "def box_plot(coluna):\n",
    "    #First Plot without definition of quartile metrics\n",
    "    fig, (ax1, ax2) = plt.subplots(1,2)\n",
    "    fig.set_size_inches(15,5)\n",
    "    sns.boxplot(x=coluna,ax=ax1)\n",
    "    #Second plot using a limits function to define the quartile as the limit of the plots\n",
    "    ax2.set_xlim(limites(coluna))\n",
    "    sns.boxplot(x=coluna,ax=ax2)\n",
    "def histograms(coluna):\n",
    "    plt.figure(figsize=(15,5))\n",
    "    sns.histplot(coluna,kde=True)\n",
    "    \n",
    "def bar_plot(coluna):\n",
    "    plt.figure(figsize=(15,5))\n",
    "    ax = sns.barplot(x=coluna.value_counts().index, y=coluna.value_counts())\n",
    "    \n",
    "    \n",
    "def violin_plot(coluna):\n",
    "    plt.figure(figsize=(8,6))\n",
    "    sns.violinplot(x=coluna)"
   ]
  },
  {
   "cell_type": "code",
   "execution_count": 10,
   "id": "93698572",
   "metadata": {},
   "outputs": [
    {
     "name": "stderr",
     "output_type": "stream",
     "text": [
      "\n",
      "Bad key axes.color_cycle in file estilos/personalestilo-1.mplstyle, line 9 ('axes.color_cycle: df691b, 5cb85c, 5bc0de, f0ad4e, d9534f, 4e5d6c')\n",
      "You probably need to get an updated matplotlibrc file from\n",
      "https://github.com/matplotlib/matplotlib/blob/v3.5.1/matplotlibrc.template\n",
      "or from the matplotlib source distribution\n"
     ]
    }
   ],
   "source": [
    "plt.style.use(\"estilos/personalestilo-1.mplstyle\")"
   ]
  },
  {
   "cell_type": "code",
   "execution_count": 11,
   "id": "bd0d9bcf",
   "metadata": {},
   "outputs": [
    {
     "data": {
      "text/plain": [
       "<AxesSubplot:>"
      ]
     },
     "execution_count": 11,
     "metadata": {},
     "output_type": "execute_result"
    },
    {
     "data": {
      "image/png": "[encoded data removed]",
      "text/plain": [
       "<Figure size 1080x504 with 2 Axes>"
      ]
     },
     "metadata": {},
     "output_type": "display_data"
    }
   ],
   "source": [
    "plt.figure(figsize=(15,7))\n",
    "sns.heatmap(Nova_York_DF.corr(),annot=True, cmap='Reds_r')"
   ]
  },
  {
   "cell_type": "code",
   "execution_count": 12,
   "id": "6512da2e",
   "metadata": {},
   "outputs": [
    {
     "data": {
      "image/png": "[encoded data removed]",
      "text/plain": [
       "<Figure size 1440x720 with 9 Axes>"
      ]
     },
     "metadata": {},
     "output_type": "display_data"
    }
   ],
   "source": [
    "Nova_York_DF.hist(figsize=(20,10))\n",
    "plt.show()"
   ]
  },
  {
   "cell_type": "code",
   "execution_count": 13,
   "id": "e7f38801",
   "metadata": {},
   "outputs": [
    {
     "data": {
      "image/png": "[encoded data removed]",
      "text/plain": [
       "<Figure size 1440x720 with 16 Axes>"
      ]
     },
     "metadata": {},
     "output_type": "display_data"
    }
   ],
   "source": [
    "Nova_York_DF.plot(kind = 'density', subplots = True, layout = (4,4), sharex = False,figsize=(20,10))\n",
    "plt.show()"
   ]
  },
  {
   "cell_type": "markdown",
   "id": "01a03885",
   "metadata": {},
   "source": [
    "- number_of_reviews, reviews_per_month and calculated_host_listings_count probaly have similar values \n",
    "- availability has a concentration of values below 200 days\n"
   ]
  },
  {
   "cell_type": "code",
   "execution_count": 14,
   "id": "ed19cee0",
   "metadata": {},
   "outputs": [
    {
     "data": {
      "image/png": "[encoded data removed]",
      "text/plain": [
       "<Figure size 1440x720 with 16 Axes>"
      ]
     },
     "metadata": {},
     "output_type": "display_data"
    }
   ],
   "source": [
    "# Box and Whisker Plots\n",
    "Nova_York_DF.plot(kind = 'box', subplots = True, layout = (4,4), sharex = False, sharey = False,figsize=(20,10))\n",
    "plt.show()"
   ]
  },
  {
   "cell_type": "markdown",
   "id": "a9e48c71",
   "metadata": {},
   "source": [
    "- The price column has possible outliers that can be analyzed.- \n",
    "- Minimum number of nights has extremely high values (outliers)\n",
    "- Latitude,Longitude, ID and HOST_ID can be removed as they are unique values\n",
    "- Availability is within 1 year\n",
    "- Number of reviews and reviews per month has  high values due to having several properties that are rented several times\n",
    " \n"
   ]
  },
  {
   "cell_type": "markdown",
   "id": "99e58ddc",
   "metadata": {},
   "source": [
    "### Variables chosen for analysis to identify outliers or be removed"
   ]
  },
  {
   "cell_type": "markdown",
   "id": "f7b57082",
   "metadata": {},
   "source": [
    "####  price"
   ]
  },
  {
   "cell_type": "code",
   "execution_count": 15,
   "id": "d7e5a6bc",
   "metadata": {},
   "outputs": [
    {
     "data": {
      "image/png": "[encoded data removed]",
      "text/plain": [
       "<Figure size 1080x360 with 1 Axes>"
      ]
     },
     "metadata": {},
     "output_type": "display_data"
    }
   ],
   "source": [
    "histograms(Nova_York_DF['price'])\n"
   ]
  },
  {
   "cell_type": "code",
   "execution_count": 16,
   "id": "c8725537",
   "metadata": {},
   "outputs": [
    {
     "data": {
      "image/png": "[encoded data removed]",
      "text/plain": [
       "<Figure size 1080x360 with 2 Axes>"
      ]
     },
     "metadata": {},
     "output_type": "display_data"
    }
   ],
   "source": [
    "box_plot(Nova_York_DF['price'])"
   ]
  },
  {
   "cell_type": "markdown",
   "id": "bac4e7d1",
   "metadata": {},
   "source": [
    "     - The box_plot is asymmetric positive \n",
    "     - Q1 = values Less than/equal to 69 representing 25% of the variables\n",
    "     - Q3 = values greater than/equal to 175 representing 75% of the variables\n",
    "     - The boxplot has several values that are out of the average... This is due to the fact that some properties are of high standard or the owner has decided to put a property at a high price. "
   ]
  },
  {
   "cell_type": "markdown",
   "id": "bec7c7b5",
   "metadata": {},
   "source": [
    "Due to the objective of the model, which is to predict properties for ordinary people to rent, I will remove the outliers of values ​​much higher than the average as this will directly impact the machine learning model in the price prediction."
   ]
  },
  {
   "cell_type": "code",
   "execution_count": 17,
   "id": "3c266fd3",
   "metadata": {},
   "outputs": [
    {
     "name": "stdout",
     "output_type": "stream",
     "text": [
      "2972 rows removed\n",
      "(45923, 14)\n"
     ]
    }
   ],
   "source": [
    "Nova_York_DF, row_removed = remove_outliers(Nova_York_DF, 'price')\n",
    "print('{} rows removed'.format(row_removed))\n",
    "print(Nova_York_DF.shape)"
   ]
  },
  {
   "cell_type": "markdown",
   "id": "d0a496a8",
   "metadata": {},
   "source": [
    "#### number_of_reviews"
   ]
  },
  {
   "cell_type": "code",
   "execution_count": 18,
   "id": "01311536",
   "metadata": {},
   "outputs": [
    {
     "data": {
      "image/png": "[encoded data removed]",
      "text/plain": [
       "<Figure size 1080x360 with 1 Axes>"
      ]
     },
     "metadata": {},
     "output_type": "display_data"
    }
   ],
   "source": [
    "histograms(Nova_York_DF['number_of_reviews'])"
   ]
  },
  {
   "cell_type": "markdown",
   "id": "ad4775d4",
   "metadata": {},
   "source": [
    "- most reviews are 0\n"
   ]
  },
  {
   "cell_type": "code",
   "execution_count": 19,
   "id": "9ff3046a",
   "metadata": {},
   "outputs": [
    {
     "name": "stdout",
     "output_type": "stream",
     "text": [
      "0     9012\n",
      "1     4929\n",
      "2     3284\n",
      "3     2372\n",
      "4     1895\n",
      "5     1506\n",
      "6     1286\n",
      "7     1121\n",
      "8     1068\n",
      "9      914\n",
      "10     749\n",
      "11     734\n",
      "12     647\n",
      "13     585\n",
      "14     547\n",
      "15     500\n",
      "16     449\n",
      "17     443\n",
      "18     400\n",
      "20     372\n",
      "Name: number_of_reviews, dtype: int64\n"
     ]
    }
   ],
   "source": [
    "print(Nova_York_DF['number_of_reviews'].value_counts().head(20))"
   ]
  },
  {
   "cell_type": "markdown",
   "id": "947589fa",
   "metadata": {},
   "source": [
    "I decided not to delete this column as it may be an important attribute for the model, as there may be a correlation between the number of reviews and the price"
   ]
  },
  {
   "cell_type": "markdown",
   "id": "38a507a7",
   "metadata": {},
   "source": [
    "#### minimum_nights"
   ]
  },
  {
   "cell_type": "code",
   "execution_count": 20,
   "id": "3584bed7",
   "metadata": {},
   "outputs": [
    {
     "data": {
      "image/png": "[encoded data removed]",
      "text/plain": [
       "<Figure size 1080x360 with 1 Axes>"
      ]
     },
     "metadata": {},
     "output_type": "display_data"
    }
   ],
   "source": [
    "bar_plot(Nova_York_DF['minimum_nights'].head(50))"
   ]
  },
  {
   "cell_type": "code",
   "execution_count": 21,
   "id": "41b39bd7",
   "metadata": {
    "scrolled": true
   },
   "outputs": [
    {
     "data": {
      "text/plain": [
       "1      12067\n",
       "2      11080\n",
       "3       7375\n",
       "30      3493\n",
       "4       3066\n",
       "5       2821\n",
       "7       1951\n",
       "6        679\n",
       "14       539\n",
       "10       462\n",
       "29       327\n",
       "15       272\n",
       "20       215\n",
       "31       189\n",
       "28       173\n",
       "21       133\n",
       "8        127\n",
       "60        98\n",
       "90        95\n",
       "12        88\n",
       "25        80\n",
       "9         79\n",
       "13        53\n",
       "180       35\n",
       "45        32\n",
       "11        31\n",
       "18        28\n",
       "120       25\n",
       "365       23\n",
       "16        17\n",
       "27        16\n",
       "26        15\n",
       "17        14\n",
       "35        14\n",
       "24        14\n",
       "100       13\n",
       "50        13\n",
       "40        10\n",
       "22         8\n",
       "80         8\n",
       "23         7\n",
       "32         7\n",
       "19         7\n",
       "70         7\n",
       "300        6\n",
       "150        6\n",
       "59         6\n",
       "500        5\n",
       "360        5\n",
       "55         4\n",
       "Name: minimum_nights, dtype: int64"
      ]
     },
     "execution_count": 21,
     "metadata": {},
     "output_type": "execute_result"
    }
   ],
   "source": [
    "Nova_York_DF['minimum_nights'].value_counts().head(50)"
   ]
  },
  {
   "cell_type": "code",
   "execution_count": 22,
   "id": "7a52e030",
   "metadata": {},
   "outputs": [
    {
     "data": {
      "image/png": "[encoded data removed]",
      "text/plain": [
       "<Figure size 1080x360 with 2 Axes>"
      ]
     },
     "metadata": {},
     "output_type": "display_data"
    }
   ],
   "source": [
    "box_plot(Nova_York_DF['minimum_nights'])"
   ]
  },
  {
   "cell_type": "code",
   "execution_count": 23,
   "id": "f4c8e167",
   "metadata": {},
   "outputs": [
    {
     "name": "stdout",
     "output_type": "stream",
     "text": [
      "the number of people staying from 1 to 3 nights represents 66.46%\n"
     ]
    }
   ],
   "source": [
    "print('the number of people staying from 1 to 3 nights represents {:.2f}%'.format((30522*100)/45923))"
   ]
  },
  {
   "cell_type": "code",
   "execution_count": 24,
   "id": "15501ce5",
   "metadata": {},
   "outputs": [
    {
     "name": "stdout",
     "output_type": "stream",
     "text": [
      "6185 rows removed\n",
      "(39738, 14)\n"
     ]
    }
   ],
   "source": [
    "Nova_York_DF, row_removed = remove_outliers(Nova_York_DF, 'minimum_nights')\n",
    "print('{} rows removed'.format(row_removed))\n",
    "print(Nova_York_DF.shape)"
   ]
  },
  {
   "cell_type": "code",
   "execution_count": 25,
   "id": "9a41306c",
   "metadata": {},
   "outputs": [
    {
     "data": {
      "image/png": "[encoded data removed]",
      "text/plain": [
       "<Figure size 1080x360 with 1 Axes>"
      ]
     },
     "metadata": {},
     "output_type": "display_data"
    }
   ],
   "source": [
    "bar_plot(Nova_York_DF['minimum_nights'])"
   ]
  },
  {
   "cell_type": "markdown",
   "id": "aca66540",
   "metadata": {},
   "source": [
    "The purpose of the model is to generate property price forecasts for people in normal conditions, I chose to withdraw people who rent the properties for more than 11 nights.\n",
    "\n",
    "people who rent properties for up to 11 nights, represent 86% of the data."
   ]
  },
  {
   "cell_type": "markdown",
   "id": "4e11775d",
   "metadata": {},
   "source": [
    "#### calculated_host_listings_count\n"
   ]
  },
  {
   "cell_type": "code",
   "execution_count": 26,
   "id": "845f1cf2",
   "metadata": {},
   "outputs": [
    {
     "data": {
      "image/png": "[encoded data removed]",
      "text/plain": [
       "<Figure size 1080x360 with 1 Axes>"
      ]
     },
     "metadata": {},
     "output_type": "display_data"
    }
   ],
   "source": [
    "bar_plot(Nova_York_DF['calculated_host_listings_count'])"
   ]
  },
  {
   "cell_type": "markdown",
   "id": "a83e78cc",
   "metadata": {},
   "source": [
    "For now I decided to keep the outliers, since people having more than one apartment does not influence the price increase."
   ]
  },
  {
   "cell_type": "markdown",
   "id": "54676939",
   "metadata": {},
   "source": [
    "#### room_type"
   ]
  },
  {
   "cell_type": "code",
   "execution_count": 27,
   "id": "5ecc90f5",
   "metadata": {},
   "outputs": [
    {
     "name": "stdout",
     "output_type": "stream",
     "text": [
      "Private room       19866\n",
      "Entire home/apt    18882\n",
      "Shared room          990\n",
      "Name: room_type, dtype: int64\n"
     ]
    },
    {
     "name": "stderr",
     "output_type": "stream",
     "text": [
      "C:\\Users\\joao_\\anaconda3\\lib\\site-packages\\seaborn\\_decorators.py:36: FutureWarning: Pass the following variable as a keyword arg: x. From version 0.12, the only valid positional argument will be `data`, and passing other arguments without an explicit keyword will result in an error or misinterpretation.\n",
      "  warnings.warn(\n"
     ]
    },
    {
     "data": {
      "image/png": "[encoded data removed]",
      "text/plain": [
       "<Figure size 1080x360 with 1 Axes>"
      ]
     },
     "metadata": {},
     "output_type": "display_data"
    }
   ],
   "source": [
    "print(Nova_York_DF['room_type'].value_counts())\n",
    "\n",
    "plt.figure(figsize=(15,5))\n",
    "grafico = sns.countplot('room_type',data = Nova_York_DF)\n",
    "grafico.tick_params(axis='x',rotation= 90)"
   ]
  },
  {
   "cell_type": "markdown",
   "id": "bb91b95a",
   "metadata": {},
   "source": [
    "Private Room: A private room is a room which you can rent without renting the entire property. It could be a room in a private residence or in a holiday home. Guests have their own room to sleep in, but share some common spaces such as a living room, kitchen and bathroom."
   ]
  },
  {
   "cell_type": "markdown",
   "id": "2d2953e3",
   "metadata": {},
   "source": [
    "As much as the concentration of room types is between Private room and Entire home/apt... I decided to keep the Shared room attribute, since it is an isolated attribute and should be considered as an option."
   ]
  },
  {
   "cell_type": "markdown",
   "id": "c7b9edec",
   "metadata": {},
   "source": [
    "#### reduction of dimensions (unique values)"
   ]
  },
  {
   "cell_type": "code",
   "execution_count": 28,
   "id": "e2b9ceb8",
   "metadata": {
    "scrolled": true
   },
   "outputs": [
    {
     "name": "stdout",
     "output_type": "stream",
     "text": [
      " Values Count Table de todas as colunas do DF:\n",
      "id                                39738\n",
      "name                              39723\n",
      "host_id                           39738\n",
      "host_name                         39718\n",
      "neighbourhood_group               39738\n",
      "neighbourhood                     39738\n",
      "latitude                          39738\n",
      "longitude                         39738\n",
      "room_type                         39738\n",
      "price                             39738\n",
      "minimum_nights                    39738\n",
      "number_of_reviews                 39738\n",
      "calculated_host_listings_count    39738\n",
      "availability_365                  39738\n",
      "dtype: int64\n",
      "--------------------------------------------------------------------------------\n",
      "Number of DF Row/columns\n",
      "(39738, 14)\n"
     ]
    }
   ],
   "source": [
    "print(f' Values Count Table de todas as colunas do DF:\\n{Nova_York_DF.notnull().sum()}')\n",
    "print('--'*40)\n",
    "print(f'Number of DF Row/columns\\n{Nova_York_DF.shape}')"
   ]
  },
  {
   "cell_type": "code",
   "execution_count": 29,
   "id": "a3432ca3",
   "metadata": {},
   "outputs": [
    {
     "name": "stdout",
     "output_type": "stream",
     "text": [
      " Values Count Table of all DF columns:\n",
      "latitude                          39738\n",
      "longitude                         39738\n",
      "room_type                         39738\n",
      "price                             39738\n",
      "minimum_nights                    39738\n",
      "number_of_reviews                 39738\n",
      "calculated_host_listings_count    39738\n",
      "availability_365                  39738\n",
      "dtype: int64\n",
      "--------------------------------------------------------------------------------\n",
      "Number of DF Row/columns\n",
      "(39738, 8)\n"
     ]
    }
   ],
   "source": [
    "Nova_York_DF = Nova_York_DF.drop(['id','name','host_id','host_name','neighbourhood_group','neighbourhood'],axis=1)\n",
    "print(f' Values Count Table of all DF columns:\\n{Nova_York_DF.notnull().sum()}')\n",
    "print('--'*40)\n",
    "print(f'Number of DF Row/columns\\n{Nova_York_DF.shape}')"
   ]
  },
  {
   "cell_type": "markdown",
   "id": "d8717189",
   "metadata": {},
   "source": [
    "### Encoding "
   ]
  },
  {
   "cell_type": "markdown",
   "id": "190c654e",
   "metadata": {},
   "source": [
    "Category Features (features in which the column values are texts) we will use the encoding method of dummy variables"
   ]
  },
  {
   "cell_type": "code",
   "execution_count": 30,
   "id": "d5700889",
   "metadata": {},
   "outputs": [
    {
     "data": {
      "text/html": [
       "<div>\n",
       "<style scoped>\n",
       "    .dataframe tbody tr th:only-of-type {\n",
       "        vertical-align: middle;\n",
       "    }\n",
       "\n",
       "    .dataframe tbody tr th {\n",
       "        vertical-align: top;\n",
       "    }\n",
       "\n",
       "    .dataframe thead th {\n",
       "        text-align: right;\n",
       "    }\n",
       "</style>\n",
       "<table border=\"1\" class=\"dataframe\">\n",
       "  <thead>\n",
       "    <tr style=\"text-align: right;\">\n",
       "      <th></th>\n",
       "      <th>latitude</th>\n",
       "      <th>longitude</th>\n",
       "      <th>price</th>\n",
       "      <th>minimum_nights</th>\n",
       "      <th>number_of_reviews</th>\n",
       "      <th>calculated_host_listings_count</th>\n",
       "      <th>availability_365</th>\n",
       "      <th>room_type_Entire home/apt</th>\n",
       "      <th>room_type_Private room</th>\n",
       "      <th>room_type_Shared room</th>\n",
       "    </tr>\n",
       "  </thead>\n",
       "  <tbody>\n",
       "    <tr>\n",
       "      <th>0</th>\n",
       "      <td>40.64749</td>\n",
       "      <td>-73.97237</td>\n",
       "      <td>149</td>\n",
       "      <td>1</td>\n",
       "      <td>9</td>\n",
       "      <td>6</td>\n",
       "      <td>365</td>\n",
       "      <td>0</td>\n",
       "      <td>1</td>\n",
       "      <td>0</td>\n",
       "    </tr>\n",
       "    <tr>\n",
       "      <th>1</th>\n",
       "      <td>40.75362</td>\n",
       "      <td>-73.98377</td>\n",
       "      <td>225</td>\n",
       "      <td>1</td>\n",
       "      <td>45</td>\n",
       "      <td>2</td>\n",
       "      <td>355</td>\n",
       "      <td>1</td>\n",
       "      <td>0</td>\n",
       "      <td>0</td>\n",
       "    </tr>\n",
       "    <tr>\n",
       "      <th>2</th>\n",
       "      <td>40.80902</td>\n",
       "      <td>-73.94190</td>\n",
       "      <td>150</td>\n",
       "      <td>3</td>\n",
       "      <td>0</td>\n",
       "      <td>1</td>\n",
       "      <td>365</td>\n",
       "      <td>0</td>\n",
       "      <td>1</td>\n",
       "      <td>0</td>\n",
       "    </tr>\n",
       "    <tr>\n",
       "      <th>3</th>\n",
       "      <td>40.68514</td>\n",
       "      <td>-73.95976</td>\n",
       "      <td>89</td>\n",
       "      <td>1</td>\n",
       "      <td>270</td>\n",
       "      <td>1</td>\n",
       "      <td>194</td>\n",
       "      <td>1</td>\n",
       "      <td>0</td>\n",
       "      <td>0</td>\n",
       "    </tr>\n",
       "    <tr>\n",
       "      <th>4</th>\n",
       "      <td>40.79851</td>\n",
       "      <td>-73.94399</td>\n",
       "      <td>80</td>\n",
       "      <td>10</td>\n",
       "      <td>9</td>\n",
       "      <td>1</td>\n",
       "      <td>0</td>\n",
       "      <td>1</td>\n",
       "      <td>0</td>\n",
       "      <td>0</td>\n",
       "    </tr>\n",
       "  </tbody>\n",
       "</table>\n",
       "</div>"
      ],
      "text/plain": [
       "   latitude  longitude  price  minimum_nights  number_of_reviews  \\\n",
       "0  40.64749  -73.97237    149               1                  9   \n",
       "1  40.75362  -73.98377    225               1                 45   \n",
       "2  40.80902  -73.94190    150               3                  0   \n",
       "3  40.68514  -73.95976     89               1                270   \n",
       "4  40.79851  -73.94399     80              10                  9   \n",
       "\n",
       "   calculated_host_listings_count  availability_365  \\\n",
       "0                               6               365   \n",
       "1                               2               355   \n",
       "2                               1               365   \n",
       "3                               1               194   \n",
       "4                               1                 0   \n",
       "\n",
       "   room_type_Entire home/apt  room_type_Private room  room_type_Shared room  \n",
       "0                          0                       1                      0  \n",
       "1                          1                       0                      0  \n",
       "2                          0                       1                      0  \n",
       "3                          1                       0                      0  \n",
       "4                          1                       0                      0  "
      ]
     },
     "metadata": {},
     "output_type": "display_data"
    }
   ],
   "source": [
    "colunas_categorias = ['room_type']\n",
    "Nova_York_DF = pd.get_dummies(data=Nova_York_DF, columns=colunas_categorias)\n",
    "display(Nova_York_DF.head())\n"
   ]
  },
  {
   "cell_type": "markdown",
   "id": "de22d026",
   "metadata": {},
   "source": [
    "### Feature Scaling"
   ]
  },
  {
   "cell_type": "code",
   "execution_count": 31,
   "id": "9eaa11bd",
   "metadata": {},
   "outputs": [
    {
     "data": {
      "text/html": [
       "<div>\n",
       "<style scoped>\n",
       "    .dataframe tbody tr th:only-of-type {\n",
       "        vertical-align: middle;\n",
       "    }\n",
       "\n",
       "    .dataframe tbody tr th {\n",
       "        vertical-align: top;\n",
       "    }\n",
       "\n",
       "    .dataframe thead th {\n",
       "        text-align: right;\n",
       "    }\n",
       "</style>\n",
       "<table border=\"1\" class=\"dataframe\">\n",
       "  <thead>\n",
       "    <tr style=\"text-align: right;\">\n",
       "      <th></th>\n",
       "      <th>latitude</th>\n",
       "      <th>longitude</th>\n",
       "      <th>minimum_nights</th>\n",
       "      <th>number_of_reviews</th>\n",
       "      <th>calculated_host_listings_count</th>\n",
       "      <th>availability_365</th>\n",
       "      <th>room_type_Entire home/apt</th>\n",
       "      <th>room_type_Private room</th>\n",
       "      <th>room_type_Shared room</th>\n",
       "    </tr>\n",
       "  </thead>\n",
       "  <tbody>\n",
       "    <tr>\n",
       "      <th>0</th>\n",
       "      <td>40.64749</td>\n",
       "      <td>-73.97237</td>\n",
       "      <td>1</td>\n",
       "      <td>9</td>\n",
       "      <td>6</td>\n",
       "      <td>365</td>\n",
       "      <td>0</td>\n",
       "      <td>1</td>\n",
       "      <td>0</td>\n",
       "    </tr>\n",
       "    <tr>\n",
       "      <th>1</th>\n",
       "      <td>40.75362</td>\n",
       "      <td>-73.98377</td>\n",
       "      <td>1</td>\n",
       "      <td>45</td>\n",
       "      <td>2</td>\n",
       "      <td>355</td>\n",
       "      <td>1</td>\n",
       "      <td>0</td>\n",
       "      <td>0</td>\n",
       "    </tr>\n",
       "    <tr>\n",
       "      <th>2</th>\n",
       "      <td>40.80902</td>\n",
       "      <td>-73.94190</td>\n",
       "      <td>3</td>\n",
       "      <td>0</td>\n",
       "      <td>1</td>\n",
       "      <td>365</td>\n",
       "      <td>0</td>\n",
       "      <td>1</td>\n",
       "      <td>0</td>\n",
       "    </tr>\n",
       "    <tr>\n",
       "      <th>3</th>\n",
       "      <td>40.68514</td>\n",
       "      <td>-73.95976</td>\n",
       "      <td>1</td>\n",
       "      <td>270</td>\n",
       "      <td>1</td>\n",
       "      <td>194</td>\n",
       "      <td>1</td>\n",
       "      <td>0</td>\n",
       "      <td>0</td>\n",
       "    </tr>\n",
       "    <tr>\n",
       "      <th>4</th>\n",
       "      <td>40.79851</td>\n",
       "      <td>-73.94399</td>\n",
       "      <td>10</td>\n",
       "      <td>9</td>\n",
       "      <td>1</td>\n",
       "      <td>0</td>\n",
       "      <td>1</td>\n",
       "      <td>0</td>\n",
       "      <td>0</td>\n",
       "    </tr>\n",
       "    <tr>\n",
       "      <th>...</th>\n",
       "      <td>...</td>\n",
       "      <td>...</td>\n",
       "      <td>...</td>\n",
       "      <td>...</td>\n",
       "      <td>...</td>\n",
       "      <td>...</td>\n",
       "      <td>...</td>\n",
       "      <td>...</td>\n",
       "      <td>...</td>\n",
       "    </tr>\n",
       "    <tr>\n",
       "      <th>48890</th>\n",
       "      <td>40.67853</td>\n",
       "      <td>-73.94995</td>\n",
       "      <td>2</td>\n",
       "      <td>0</td>\n",
       "      <td>2</td>\n",
       "      <td>9</td>\n",
       "      <td>0</td>\n",
       "      <td>1</td>\n",
       "      <td>0</td>\n",
       "    </tr>\n",
       "    <tr>\n",
       "      <th>48891</th>\n",
       "      <td>40.70184</td>\n",
       "      <td>-73.93317</td>\n",
       "      <td>4</td>\n",
       "      <td>0</td>\n",
       "      <td>2</td>\n",
       "      <td>36</td>\n",
       "      <td>0</td>\n",
       "      <td>1</td>\n",
       "      <td>0</td>\n",
       "    </tr>\n",
       "    <tr>\n",
       "      <th>48892</th>\n",
       "      <td>40.81475</td>\n",
       "      <td>-73.94867</td>\n",
       "      <td>10</td>\n",
       "      <td>0</td>\n",
       "      <td>1</td>\n",
       "      <td>27</td>\n",
       "      <td>1</td>\n",
       "      <td>0</td>\n",
       "      <td>0</td>\n",
       "    </tr>\n",
       "    <tr>\n",
       "      <th>48893</th>\n",
       "      <td>40.75751</td>\n",
       "      <td>-73.99112</td>\n",
       "      <td>1</td>\n",
       "      <td>0</td>\n",
       "      <td>6</td>\n",
       "      <td>2</td>\n",
       "      <td>0</td>\n",
       "      <td>0</td>\n",
       "      <td>1</td>\n",
       "    </tr>\n",
       "    <tr>\n",
       "      <th>48894</th>\n",
       "      <td>40.76404</td>\n",
       "      <td>-73.98933</td>\n",
       "      <td>7</td>\n",
       "      <td>0</td>\n",
       "      <td>1</td>\n",
       "      <td>23</td>\n",
       "      <td>0</td>\n",
       "      <td>1</td>\n",
       "      <td>0</td>\n",
       "    </tr>\n",
       "  </tbody>\n",
       "</table>\n",
       "<p>39738 rows × 9 columns</p>\n",
       "</div>"
      ],
      "text/plain": [
       "       latitude  longitude  minimum_nights  number_of_reviews  \\\n",
       "0      40.64749  -73.97237               1                  9   \n",
       "1      40.75362  -73.98377               1                 45   \n",
       "2      40.80902  -73.94190               3                  0   \n",
       "3      40.68514  -73.95976               1                270   \n",
       "4      40.79851  -73.94399              10                  9   \n",
       "...         ...        ...             ...                ...   \n",
       "48890  40.67853  -73.94995               2                  0   \n",
       "48891  40.70184  -73.93317               4                  0   \n",
       "48892  40.81475  -73.94867              10                  0   \n",
       "48893  40.75751  -73.99112               1                  0   \n",
       "48894  40.76404  -73.98933               7                  0   \n",
       "\n",
       "       calculated_host_listings_count  availability_365  \\\n",
       "0                                   6               365   \n",
       "1                                   2               355   \n",
       "2                                   1               365   \n",
       "3                                   1               194   \n",
       "4                                   1                 0   \n",
       "...                               ...               ...   \n",
       "48890                               2                 9   \n",
       "48891                               2                36   \n",
       "48892                               1                27   \n",
       "48893                               6                 2   \n",
       "48894                               1                23   \n",
       "\n",
       "       room_type_Entire home/apt  room_type_Private room  \\\n",
       "0                              0                       1   \n",
       "1                              1                       0   \n",
       "2                              0                       1   \n",
       "3                              1                       0   \n",
       "4                              1                       0   \n",
       "...                          ...                     ...   \n",
       "48890                          0                       1   \n",
       "48891                          0                       1   \n",
       "48892                          1                       0   \n",
       "48893                          0                       0   \n",
       "48894                          0                       1   \n",
       "\n",
       "       room_type_Shared room  \n",
       "0                          0  \n",
       "1                          0  \n",
       "2                          0  \n",
       "3                          0  \n",
       "4                          0  \n",
       "...                      ...  \n",
       "48890                      0  \n",
       "48891                      0  \n",
       "48892                      0  \n",
       "48893                      1  \n",
       "48894                      0  \n",
       "\n",
       "[39738 rows x 9 columns]"
      ]
     },
     "metadata": {},
     "output_type": "display_data"
    }
   ],
   "source": [
    "## Separating the array into input and output components\n",
    "X = Nova_York_DF.drop(['price'],axis=1) ; display(X)\n",
    "\n",
    "y = []\n",
    "for target in Nova_York_DF['price']:\n",
    "    y.append(target)\n",
    "   \n",
    "    \n",
    "\n"
   ]
  },
  {
   "cell_type": "code",
   "execution_count": 32,
   "id": "156f8093",
   "metadata": {},
   "outputs": [],
   "source": [
    "# Gerando o novo padrão\n",
    "scaler = StandardScaler().fit(X)\n",
    "X = scaler.transform(X)"
   ]
  },
  {
   "cell_type": "markdown",
   "id": "5e54a311",
   "metadata": {},
   "source": [
    "### Machine Learning"
   ]
  },
  {
   "cell_type": "code",
   "execution_count": 33,
   "id": "36ab3789",
   "metadata": {},
   "outputs": [],
   "source": [
    "def avaliar_modelo(nome_modelo,y_teste,previsao):\n",
    "    r2 = r2_score(y_teste,previsao)\n",
    "    RSME = np.sqrt(mean_squared_error(y_teste,previsao))\n",
    "    return f'Modelo {nome_modelo}:\\nR²:{r2:.2%}\\nRSME:{RSME:.2f}'"
   ]
  },
  {
   "cell_type": "code",
   "execution_count": 34,
   "id": "83e9d609",
   "metadata": {},
   "outputs": [
    {
     "name": "stdout",
     "output_type": "stream",
     "text": [
      "Modelo RandomForest:\n",
      "R²:55.50%\n",
      "RSME:45.34\n",
      "Modelo LinearRegression:\n",
      "R²:44.88%\n",
      "RSME:50.47\n",
      "Modelo ExtraTrees:\n",
      "R²:54.67%\n",
      "RSME:45.77\n",
      "Modelo decision tree:\n",
      "R²:14.97%\n",
      "RSME:62.68\n"
     ]
    }
   ],
   "source": [
    "from sklearn.metrics import r2_score,mean_squared_error\n",
    "from sklearn.linear_model import LinearRegression\n",
    "from sklearn.ensemble import RandomForestRegressor, ExtraTreesRegressor\n",
    "from sklearn.model_selection import train_test_split\n",
    "from sklearn.tree import DecisionTreeRegressor\n",
    "\n",
    "modelo_rf = RandomForestRegressor()\n",
    "modelo_lr = LinearRegression()\n",
    "modelo_et = ExtraTreesRegressor()\n",
    "modelo_dt =  DecisionTreeRegressor()\n",
    "\n",
    "modelos = {'RandomForest': modelo_rf,\n",
    "          'LinearRegression': modelo_lr,\n",
    "          'ExtraTrees': modelo_et,                        \n",
    "           \n",
    "           'decision tree': modelo_dt\n",
    "          }\n",
    "X_train, X_test, y_train, y_test = train_test_split(X, y, random_state=7)\n",
    "\n",
    "for nome_modelo, modelo in modelos.items():\n",
    "    #treinar\n",
    "    modelo.fit(X_train, y_train)\n",
    "    #testar\n",
    "    previsao = modelo.predict(X_test)\n",
    "    print(avaliar_modelo(nome_modelo, y_test, previsao))"
   ]
  },
  {
   "cell_type": "markdown",
   "id": "68e3e1ef",
   "metadata": {},
   "source": [
    "#### LinearRegression"
   ]
  },
  {
   "cell_type": "code",
   "execution_count": 35,
   "id": "da2d5123",
   "metadata": {},
   "outputs": [
    {
     "name": "stdout",
     "output_type": "stream",
     "text": [
      "Modelo LinearRegression():\n",
      "R²:44.63%\n",
      "RSME:50.33\n"
     ]
    }
   ],
   "source": [
    "\n",
    "# Setting the sample size\n",
    "teste_size = 0.30\n",
    "# Creating training and testing datasets\n",
    "X_train, X_test,y_train,y_test = model_selection.train_test_split(X, y,test_size = teste_size,random_state=7)  \n",
    "                                                                         \n",
    "\n",
    "\n",
    "# Creating the linear regression object\n",
    "modelov1 = linear_model.LinearRegression()\n",
    "\n",
    "# Training the model with training data and checking the score\n",
    "modelov1.fit(X_train, y_train)\n",
    "modelov1.score(X_train,y_train)\n",
    "\n",
    "\n",
    "# Forecasts\n",
    "valores_previstos = modelov1.predict(X_test)\n",
    "\n",
    "print(avaliar_modelo(modelov1,y_test,valores_previstos))\n"
   ]
  },
  {
   "cell_type": "markdown",
   "id": "6bbd675e",
   "metadata": {},
   "source": [
    "#### Decision tree"
   ]
  },
  {
   "cell_type": "code",
   "execution_count": 53,
   "id": "ae2d99c9",
   "metadata": {},
   "outputs": [
    {
     "name": "stdout",
     "output_type": "stream",
     "text": [
      "Modelo DecisionTreeRegressor(random_state=7):\n",
      "R²:13.70%\n",
      "RSME:62.83\n"
     ]
    }
   ],
   "source": [
    "# Setting the sample size\n",
    "teste_size = 0.30\n",
    "# Creating training and testing datasets\n",
    "X_train, X_test,y_train,y_test = model_selection.train_test_split(X, y,test_size = teste_size,random_state=7)  \n",
    "\n",
    "# Creating the linear regression object\n",
    "modelov1 = DecisionTreeRegressor(random_state=7)    \n",
    "\n",
    "\n",
    "# Training the model with training data and checking the score\n",
    "modelov1.fit(X_train, y_train)\n",
    "modelov1.score(X_train,y_train)\n",
    "\n",
    "\n",
    "# Forecasts\n",
    "valores_previstos = modelov1.predict(X_test)\n",
    "\n",
    "print(avaliar_modelo(modelov1,y_test,valores_previstos))"
   ]
  },
  {
   "cell_type": "markdown",
   "id": "609b8e5b",
   "metadata": {},
   "source": [
    "##### changing the parameters"
   ]
  },
  {
   "cell_type": "code",
   "execution_count": 54,
   "id": "acc50669",
   "metadata": {},
   "outputs": [
    {
     "name": "stdout",
     "output_type": "stream",
     "text": [
      "Modelo DecisionTreeRegressor(max_depth=8, min_samples_leaf=10, random_state=7):\n",
      "R²:53.85%\n",
      "RSME:45.95\n"
     ]
    }
   ],
   "source": [
    "# Setting the sample size\n",
    "teste_size = 0.30\n",
    "# Creating training and testing datasets\n",
    "X_train, X_test,y_train,y_test = model_selection.train_test_split(X, y,test_size = teste_size,random_state=7)  \n",
    "\n",
    "# Creating the linear regression object\n",
    "modelov1 = DecisionTreeRegressor(max_depth = 8, min_samples_leaf = 10, random_state=7)    \n",
    "\n",
    "\n",
    "# Training the model with training data and checking the score\n",
    "modelov1.fit(X_train, y_train)\n",
    "modelov1.score(X_train,y_train)\n",
    "\n",
    "\n",
    "# Forecasts\n",
    "valores_previstos = modelov1.predict(X_test)\n",
    "\n",
    "print(avaliar_modelo(modelov1,y_test,valores_previstos))"
   ]
  },
  {
   "cell_type": "markdown",
   "id": "94745430",
   "metadata": {},
   "source": [
    "changing the parameters, I got a 39.45% increase"
   ]
  },
  {
   "cell_type": "markdown",
   "id": "511c3ec2",
   "metadata": {},
   "source": [
    "#### ExtraTrees"
   ]
  },
  {
   "cell_type": "code",
   "execution_count": 37,
   "id": "5a754e85",
   "metadata": {},
   "outputs": [
    {
     "name": "stdout",
     "output_type": "stream",
     "text": [
      "Modelo ExtraTreesRegressor():\n",
      "R²:54.20%\n",
      "RSME:45.77\n"
     ]
    }
   ],
   "source": [
    "# Setting the sample size\n",
    "teste_size = 0.30\n",
    "# Creating training and testing datasets\n",
    "X_train, X_test,y_train,y_test = model_selection.train_test_split(X, y,test_size = teste_size,random_state=7)  \n",
    "\n",
    "# Creating the linear regression object\n",
    "clf = ExtraTreesRegressor()  \n",
    "\n",
    "\n",
    "# Training the model with training data and checking the score\n",
    "clf.fit(X_train, y_train)\n",
    "clf.score(X_train,y_train)\n",
    "\n",
    "\n",
    "# Forecasts\n",
    "valores_previstos = clf.predict(X_test)\n",
    "\n",
    "print(avaliar_modelo(clf,y_test,valores_previstos))"
   ]
  },
  {
   "cell_type": "code",
   "execution_count": 43,
   "id": "3db1a86b",
   "metadata": {},
   "outputs": [
    {
     "name": "stderr",
     "output_type": "stream",
     "text": [
      "C:\\Users\\joao_\\anaconda3\\lib\\site-packages\\sklearn\\model_selection\\_validation.py:372: FitFailedWarning: \n",
      "270 fits failed out of a total of 500.\n",
      "The score on these train-test partitions for these parameters will be set to nan.\n",
      "If these failures are not expected, you can try to debug them by setting error_score='raise'.\n",
      "\n",
      "Below are more details about the failures:\n",
      "--------------------------------------------------------------------------------\n",
      "140 fits failed with the following error:\n",
      "Traceback (most recent call last):\n",
      "  File \"C:\\Users\\joao_\\anaconda3\\lib\\site-packages\\sklearn\\model_selection\\_validation.py\", line 680, in _fit_and_score\n",
      "    estimator.fit(X_train, y_train, **fit_params)\n",
      "  File \"C:\\Users\\joao_\\anaconda3\\lib\\site-packages\\sklearn\\ensemble\\_forest.py\", line 450, in fit\n",
      "    trees = Parallel(\n",
      "  File \"C:\\Users\\joao_\\anaconda3\\lib\\site-packages\\joblib\\parallel.py\", line 1043, in __call__\n",
      "    if self.dispatch_one_batch(iterator):\n",
      "  File \"C:\\Users\\joao_\\anaconda3\\lib\\site-packages\\joblib\\parallel.py\", line 861, in dispatch_one_batch\n",
      "    self._dispatch(tasks)\n",
      "  File \"C:\\Users\\joao_\\anaconda3\\lib\\site-packages\\joblib\\parallel.py\", line 779, in _dispatch\n",
      "    job = self._backend.apply_async(batch, callback=cb)\n",
      "  File \"C:\\Users\\joao_\\anaconda3\\lib\\site-packages\\joblib\\_parallel_backends.py\", line 208, in apply_async\n",
      "    result = ImmediateResult(func)\n",
      "  File \"C:\\Users\\joao_\\anaconda3\\lib\\site-packages\\joblib\\_parallel_backends.py\", line 572, in __init__\n",
      "    self.results = batch()\n",
      "  File \"C:\\Users\\joao_\\anaconda3\\lib\\site-packages\\joblib\\parallel.py\", line 262, in __call__\n",
      "    return [func(*args, **kwargs)\n",
      "  File \"C:\\Users\\joao_\\anaconda3\\lib\\site-packages\\joblib\\parallel.py\", line 262, in <listcomp>\n",
      "    return [func(*args, **kwargs)\n",
      "  File \"C:\\Users\\joao_\\anaconda3\\lib\\site-packages\\sklearn\\utils\\fixes.py\", line 216, in __call__\n",
      "    return self.function(*args, **kwargs)\n",
      "  File \"C:\\Users\\joao_\\anaconda3\\lib\\site-packages\\sklearn\\ensemble\\_forest.py\", line 185, in _parallel_build_trees\n",
      "    tree.fit(X, y, sample_weight=curr_sample_weight, check_input=False)\n",
      "  File \"C:\\Users\\joao_\\anaconda3\\lib\\site-packages\\sklearn\\tree\\_classes.py\", line 1315, in fit\n",
      "    super().fit(\n",
      "  File \"C:\\Users\\joao_\\anaconda3\\lib\\site-packages\\sklearn\\tree\\_classes.py\", line 308, in fit\n",
      "    raise ValueError(\"max_features must be in (0, n_features]\")\n",
      "ValueError: max_features must be in (0, n_features]\n",
      "\n",
      "--------------------------------------------------------------------------------\n",
      "130 fits failed with the following error:\n",
      "Traceback (most recent call last):\n",
      "  File \"C:\\Users\\joao_\\anaconda3\\lib\\site-packages\\sklearn\\model_selection\\_validation.py\", line 680, in _fit_and_score\n",
      "    estimator.fit(X_train, y_train, **fit_params)\n",
      "  File \"C:\\Users\\joao_\\anaconda3\\lib\\site-packages\\sklearn\\ensemble\\_forest.py\", line 450, in fit\n",
      "    trees = Parallel(\n",
      "  File \"C:\\Users\\joao_\\anaconda3\\lib\\site-packages\\joblib\\parallel.py\", line 1043, in __call__\n",
      "    if self.dispatch_one_batch(iterator):\n",
      "  File \"C:\\Users\\joao_\\anaconda3\\lib\\site-packages\\joblib\\parallel.py\", line 861, in dispatch_one_batch\n",
      "    self._dispatch(tasks)\n",
      "  File \"C:\\Users\\joao_\\anaconda3\\lib\\site-packages\\joblib\\parallel.py\", line 779, in _dispatch\n",
      "    job = self._backend.apply_async(batch, callback=cb)\n",
      "  File \"C:\\Users\\joao_\\anaconda3\\lib\\site-packages\\joblib\\_parallel_backends.py\", line 208, in apply_async\n",
      "    result = ImmediateResult(func)\n",
      "  File \"C:\\Users\\joao_\\anaconda3\\lib\\site-packages\\joblib\\_parallel_backends.py\", line 572, in __init__\n",
      "    self.results = batch()\n",
      "  File \"C:\\Users\\joao_\\anaconda3\\lib\\site-packages\\joblib\\parallel.py\", line 262, in __call__\n",
      "    return [func(*args, **kwargs)\n",
      "  File \"C:\\Users\\joao_\\anaconda3\\lib\\site-packages\\joblib\\parallel.py\", line 262, in <listcomp>\n",
      "    return [func(*args, **kwargs)\n",
      "  File \"C:\\Users\\joao_\\anaconda3\\lib\\site-packages\\sklearn\\utils\\fixes.py\", line 216, in __call__\n",
      "    return self.function(*args, **kwargs)\n",
      "  File \"C:\\Users\\joao_\\anaconda3\\lib\\site-packages\\sklearn\\ensemble\\_forest.py\", line 187, in _parallel_build_trees\n",
      "    tree.fit(X, y, sample_weight=sample_weight, check_input=False)\n",
      "  File \"C:\\Users\\joao_\\anaconda3\\lib\\site-packages\\sklearn\\tree\\_classes.py\", line 1315, in fit\n",
      "    super().fit(\n",
      "  File \"C:\\Users\\joao_\\anaconda3\\lib\\site-packages\\sklearn\\tree\\_classes.py\", line 308, in fit\n",
      "    raise ValueError(\"max_features must be in (0, n_features]\")\n",
      "ValueError: max_features must be in (0, n_features]\n",
      "\n",
      "  warnings.warn(some_fits_failed_message, FitFailedWarning)\n",
      "C:\\Users\\joao_\\anaconda3\\lib\\site-packages\\sklearn\\model_selection\\_search.py:969: UserWarning: One or more of the test scores are non-finite: [0.52671523        nan 0.52199069 0.42971004        nan        nan\n",
      "        nan 0.52648938        nan        nan        nan        nan\n",
      " 0.54885171 0.52116664        nan        nan        nan        nan\n",
      "        nan        nan 0.37308906 0.54938303        nan        nan\n",
      "        nan        nan        nan        nan        nan 0.51071367\n",
      " 0.51575535        nan        nan 0.54804138 0.5541684         nan\n",
      "        nan 0.42984097        nan 0.52215627        nan        nan\n",
      " 0.37308517 0.42427437        nan 0.52221798        nan        nan\n",
      " 0.5548617         nan 0.43077475 0.55597662        nan 0.42610327\n",
      "        nan 0.55576915 0.37126517 0.37020775        nan 0.55609205\n",
      "        nan 0.51009301        nan 0.54879081        nan 0.37085862\n",
      " 0.51567227 0.55634835        nan 0.42157524        nan 0.4259327\n",
      " 0.3709148  0.52614532 0.55595375        nan 0.52640183        nan\n",
      " 0.42893126        nan 0.4298272         nan        nan        nan\n",
      "        nan        nan 0.42601377 0.5516982         nan        nan\n",
      "        nan        nan 0.37070641 0.54860756 0.5220533  0.42975561\n",
      "        nan 0.51578037 0.51026506        nan]\n",
      "  warnings.warn(\n"
     ]
    },
    {
     "name": "stdout",
     "output_type": "stream",
     "text": [
      "ExtraTreesRegressor(max_features=8, min_samples_leaf=2, min_samples_split=16)\n"
     ]
    }
   ],
   "source": [
    "from sklearn.model_selection import RandomizedSearchCV\n",
    "param_dist = {\"max_depth\": [1, 3, 7, 8, 12, None],\n",
    "              \"max_features\": [8, 9, 10, 11, 16, 22],\n",
    "              \"min_samples_split\": [8, 10, 11, 14, 16, 19],\n",
    "              \"min_samples_leaf\": [1, 2, 3, 4, 5, 6, 7],\n",
    "              \"bootstrap\": [True, False]}\n",
    "\n",
    "# Para o classificador criado na célula anterior, testamos diferentes combinações de parâmetros\n",
    "rsearch = RandomizedSearchCV(clf, param_distributions = param_dist, n_iter = 10)  \n",
    "\n",
    "# Aplicando o resultado ao conjunto de dados de treino e obtendo o score\n",
    "rsearch.fit(X_train,y_train)\n",
    "rsearch.cv_results_\n",
    "\n",
    "# Imprimindo o melhor estimador\n",
    "bestclf = rsearch.best_estimator_\n",
    "print (bestclf)\n",
    "\n"
   ]
  },
  {
   "cell_type": "code",
   "execution_count": 44,
   "id": "97981843",
   "metadata": {},
   "outputs": [
    {
     "name": "stdout",
     "output_type": "stream",
     "text": [
      "Modelo ExtraTreesRegressor(max_features=8, min_samples_leaf=2, min_samples_split=16):\n",
      "R²:56.96%\n",
      "RSME:44.37\n"
     ]
    }
   ],
   "source": [
    "# Setting the sample size\n",
    "teste_size = 0.30\n",
    "# Creating training and testing datasets\n",
    "X_train, X_test,y_train,y_test = model_selection.train_test_split(X, y,test_size = teste_size,random_state=7)  \n",
    "\n",
    "# Creating the linear regression object\n",
    "clf = ExtraTreesRegressor(n_estimators = 100,max_features=8, min_samples_leaf=2, min_samples_split=16)  \n",
    "\n",
    "\n",
    "# Training the model with training data and checking the score\n",
    "clf.fit(X_train, y_train)\n",
    "clf.score(X_train,y_train)\n",
    "\n",
    "\n",
    "# Forecasts\n",
    "valores_previstos = clf.predict(X_test)\n",
    "\n",
    "print(avaliar_modelo(clf,y_test,valores_previstos))"
   ]
  },
  {
   "cell_type": "markdown",
   "id": "0812af4a",
   "metadata": {},
   "source": [
    "#### RandomForest"
   ]
  },
  {
   "cell_type": "code",
   "execution_count": 57,
   "id": "f34f2e38",
   "metadata": {},
   "outputs": [
    {
     "name": "stdout",
     "output_type": "stream",
     "text": [
      "Modelo RandomForestRegressor(random_state=7):\n",
      "R²:55.23%\n",
      "RSME:45.25\n"
     ]
    }
   ],
   "source": [
    "# Setting the sample size\n",
    "teste_size = 0.30\n",
    "# Creating training and testing datasets\n",
    "X_train, X_test,y_train,y_test = model_selection.train_test_split(X, y,test_size = teste_size,random_state=7)  \n",
    "\n",
    "# Creating the linear regression object\n",
    "modelov1 = RandomForestRegressor(random_state=7)  \n",
    "\n",
    "\n",
    "# Training the model with training data and checking the score\n",
    "modelov1.fit(X_train, y_train)\n",
    "modelov1.score(X_train,y_train)\n",
    "\n",
    "\n",
    "# Forecasts\n",
    "valores_previstos = modelov1.predict(X_test)\n",
    "\n",
    "print(avaliar_modelo(modelov1,y_test,valores_previstos))"
   ]
  },
  {
   "cell_type": "code",
   "execution_count": 58,
   "id": "3325987c",
   "metadata": {},
   "outputs": [
    {
     "name": "stderr",
     "output_type": "stream",
     "text": [
      "C:\\Users\\joao_\\anaconda3\\lib\\site-packages\\sklearn\\model_selection\\_validation.py:372: FitFailedWarning: \n",
      "320 fits failed out of a total of 500.\n",
      "The score on these train-test partitions for these parameters will be set to nan.\n",
      "If these failures are not expected, you can try to debug them by setting error_score='raise'.\n",
      "\n",
      "Below are more details about the failures:\n",
      "--------------------------------------------------------------------------------\n",
      "145 fits failed with the following error:\n",
      "Traceback (most recent call last):\n",
      "  File \"C:\\Users\\joao_\\anaconda3\\lib\\site-packages\\sklearn\\model_selection\\_validation.py\", line 680, in _fit_and_score\n",
      "    estimator.fit(X_train, y_train, **fit_params)\n",
      "  File \"C:\\Users\\joao_\\anaconda3\\lib\\site-packages\\sklearn\\ensemble\\_forest.py\", line 450, in fit\n",
      "    trees = Parallel(\n",
      "  File \"C:\\Users\\joao_\\anaconda3\\lib\\site-packages\\joblib\\parallel.py\", line 1043, in __call__\n",
      "    if self.dispatch_one_batch(iterator):\n",
      "  File \"C:\\Users\\joao_\\anaconda3\\lib\\site-packages\\joblib\\parallel.py\", line 861, in dispatch_one_batch\n",
      "    self._dispatch(tasks)\n",
      "  File \"C:\\Users\\joao_\\anaconda3\\lib\\site-packages\\joblib\\parallel.py\", line 779, in _dispatch\n",
      "    job = self._backend.apply_async(batch, callback=cb)\n",
      "  File \"C:\\Users\\joao_\\anaconda3\\lib\\site-packages\\joblib\\_parallel_backends.py\", line 208, in apply_async\n",
      "    result = ImmediateResult(func)\n",
      "  File \"C:\\Users\\joao_\\anaconda3\\lib\\site-packages\\joblib\\_parallel_backends.py\", line 572, in __init__\n",
      "    self.results = batch()\n",
      "  File \"C:\\Users\\joao_\\anaconda3\\lib\\site-packages\\joblib\\parallel.py\", line 262, in __call__\n",
      "    return [func(*args, **kwargs)\n",
      "  File \"C:\\Users\\joao_\\anaconda3\\lib\\site-packages\\joblib\\parallel.py\", line 262, in <listcomp>\n",
      "    return [func(*args, **kwargs)\n",
      "  File \"C:\\Users\\joao_\\anaconda3\\lib\\site-packages\\sklearn\\utils\\fixes.py\", line 216, in __call__\n",
      "    return self.function(*args, **kwargs)\n",
      "  File \"C:\\Users\\joao_\\anaconda3\\lib\\site-packages\\sklearn\\ensemble\\_forest.py\", line 185, in _parallel_build_trees\n",
      "    tree.fit(X, y, sample_weight=curr_sample_weight, check_input=False)\n",
      "  File \"C:\\Users\\joao_\\anaconda3\\lib\\site-packages\\sklearn\\tree\\_classes.py\", line 1315, in fit\n",
      "    super().fit(\n",
      "  File \"C:\\Users\\joao_\\anaconda3\\lib\\site-packages\\sklearn\\tree\\_classes.py\", line 308, in fit\n",
      "    raise ValueError(\"max_features must be in (0, n_features]\")\n",
      "ValueError: max_features must be in (0, n_features]\n",
      "\n",
      "--------------------------------------------------------------------------------\n",
      "175 fits failed with the following error:\n",
      "Traceback (most recent call last):\n",
      "  File \"C:\\Users\\joao_\\anaconda3\\lib\\site-packages\\sklearn\\model_selection\\_validation.py\", line 680, in _fit_and_score\n",
      "    estimator.fit(X_train, y_train, **fit_params)\n",
      "  File \"C:\\Users\\joao_\\anaconda3\\lib\\site-packages\\sklearn\\ensemble\\_forest.py\", line 450, in fit\n",
      "    trees = Parallel(\n",
      "  File \"C:\\Users\\joao_\\anaconda3\\lib\\site-packages\\joblib\\parallel.py\", line 1043, in __call__\n",
      "    if self.dispatch_one_batch(iterator):\n",
      "  File \"C:\\Users\\joao_\\anaconda3\\lib\\site-packages\\joblib\\parallel.py\", line 861, in dispatch_one_batch\n",
      "    self._dispatch(tasks)\n",
      "  File \"C:\\Users\\joao_\\anaconda3\\lib\\site-packages\\joblib\\parallel.py\", line 779, in _dispatch\n",
      "    job = self._backend.apply_async(batch, callback=cb)\n",
      "  File \"C:\\Users\\joao_\\anaconda3\\lib\\site-packages\\joblib\\_parallel_backends.py\", line 208, in apply_async\n",
      "    result = ImmediateResult(func)\n",
      "  File \"C:\\Users\\joao_\\anaconda3\\lib\\site-packages\\joblib\\_parallel_backends.py\", line 572, in __init__\n",
      "    self.results = batch()\n",
      "  File \"C:\\Users\\joao_\\anaconda3\\lib\\site-packages\\joblib\\parallel.py\", line 262, in __call__\n",
      "    return [func(*args, **kwargs)\n",
      "  File \"C:\\Users\\joao_\\anaconda3\\lib\\site-packages\\joblib\\parallel.py\", line 262, in <listcomp>\n",
      "    return [func(*args, **kwargs)\n",
      "  File \"C:\\Users\\joao_\\anaconda3\\lib\\site-packages\\sklearn\\utils\\fixes.py\", line 216, in __call__\n",
      "    return self.function(*args, **kwargs)\n",
      "  File \"C:\\Users\\joao_\\anaconda3\\lib\\site-packages\\sklearn\\ensemble\\_forest.py\", line 187, in _parallel_build_trees\n",
      "    tree.fit(X, y, sample_weight=sample_weight, check_input=False)\n",
      "  File \"C:\\Users\\joao_\\anaconda3\\lib\\site-packages\\sklearn\\tree\\_classes.py\", line 1315, in fit\n",
      "    super().fit(\n",
      "  File \"C:\\Users\\joao_\\anaconda3\\lib\\site-packages\\sklearn\\tree\\_classes.py\", line 308, in fit\n",
      "    raise ValueError(\"max_features must be in (0, n_features]\")\n",
      "ValueError: max_features must be in (0, n_features]\n",
      "\n",
      "  warnings.warn(some_fits_failed_message, FitFailedWarning)\n",
      "C:\\Users\\joao_\\anaconda3\\lib\\site-packages\\sklearn\\model_selection\\_search.py:969: UserWarning: One or more of the test scores are non-finite: [       nan 0.54164407        nan        nan        nan        nan\n",
      " 0.54742526 0.55005929        nan        nan        nan        nan\n",
      "        nan        nan        nan        nan 0.47842499 0.55192796\n",
      "        nan        nan 0.45566693        nan        nan        nan\n",
      " 0.4806693         nan        nan        nan 0.53353013        nan\n",
      " 0.53114018 0.52465115 0.48066425        nan 0.47584274        nan\n",
      "        nan        nan 0.55281181 0.54586925 0.47860477        nan\n",
      "        nan 0.47842499        nan        nan        nan 0.51811705\n",
      "        nan        nan 0.37308517 0.54643884 0.54123694        nan\n",
      "        nan        nan        nan        nan        nan 0.51173287\n",
      " 0.5454897         nan        nan        nan        nan        nan\n",
      "        nan        nan 0.47842499 0.54517185        nan        nan\n",
      "        nan        nan 0.47860477        nan 0.48784085 0.51631644\n",
      " 0.55054483        nan        nan        nan 0.52865789        nan\n",
      " 0.55283077 0.37039373        nan 0.32045132        nan        nan\n",
      "        nan        nan 0.53076179        nan        nan 0.55308998\n",
      "        nan        nan 0.52216471 0.53149246]\n",
      "  warnings.warn(\n"
     ]
    },
    {
     "name": "stdout",
     "output_type": "stream",
     "text": [
      "RandomForestRegressor(max_depth=12, max_features=8, min_samples_split=16,\n",
      "                      random_state=7)\n"
     ]
    }
   ],
   "source": [
    "from sklearn.model_selection import RandomizedSearchCV\n",
    "param_dist = {\"max_depth\": [1, 3, 7, 8, 12, None],\n",
    "              \"max_features\": [8, 9, 10, 11, 16, 22],\n",
    "              \"min_samples_split\": [8, 10, 11, 14, 16, 19],\n",
    "              \"min_samples_leaf\": [1, 2, 3, 4, 5, 6, 7],\n",
    "              \"bootstrap\": [True, False]}\n",
    "\n",
    "# Para o classificador criado na célula anterior, testamos diferentes combinações de parâmetros\n",
    "rsearch = RandomizedSearchCV(modelov1, param_distributions = param_dist, n_iter = 100)  \n",
    "\n",
    "# Aplicando o resultado ao conjunto de dados de treino e obtendo o score\n",
    "rsearch.fit(X_train,y_train)\n",
    "rsearch.cv_results_\n",
    "\n",
    "# Imprimindo o melhor estimador\n",
    "bestclf = rsearch.best_estimator_\n",
    "print (bestclf)\n"
   ]
  },
  {
   "cell_type": "code",
   "execution_count": 60,
   "id": "95496aa9",
   "metadata": {},
   "outputs": [
    {
     "name": "stdout",
     "output_type": "stream",
     "text": [
      "Modelo RandomForestRegressor(max_depth=12, max_features=8, min_samples_split=16,\n",
      "                      n_estimators=1000, random_state=7):\n",
      "R²:56.98%\n",
      "RSME:44.36\n"
     ]
    }
   ],
   "source": [
    "# Setting the sample size\n",
    "teste_size = 0.30\n",
    "# Creating training and testing datasets\n",
    "X_train, X_test,y_train,y_test = model_selection.train_test_split(X, y,test_size = teste_size,random_state=7)  \n",
    "\n",
    "# Creating the linear regression object\n",
    "modelov1 = RandomForestRegressor(n_estimators = 1000,max_depth=12, max_features=8, min_samples_split=16,\n",
    "                      random_state=7)\n",
    "\n",
    "\n",
    "# Training the model with training data and checking the score\n",
    "modelov1.fit(X_train, y_train)\n",
    "modelov1.score(X_train,y_train)\n",
    "\n",
    "\n",
    "# Forecasts\n",
    "valores_previstos = modelov1.predict(X_test)\n",
    "\n",
    "print(avaliar_modelo(modelov1,y_test,valores_previstos))"
   ]
  },
  {
   "cell_type": "code",
   "execution_count": null,
   "id": "dd78f302",
   "metadata": {},
   "outputs": [],
   "source": []
  }
 ],
 "metadata": {
  "kernelspec": {
   "display_name": "Python 3 (ipykernel)",
   "language": "python",
   "name": "python3"
  },
  "language_info": {
   "codemirror_mode": {
    "name": "ipython",
    "version": 3
   },
   "file_extension": ".py",
   "mimetype": "text/x-python",
   "name": "python",
   "nbconvert_exporter": "python",
   "pygments_lexer": "ipython3",
   "version": "3.9.12"
  }
 },
 "nbformat": 4,
 "nbformat_minor": 5
}
